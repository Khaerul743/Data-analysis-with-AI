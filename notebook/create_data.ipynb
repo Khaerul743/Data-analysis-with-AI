{
 "cells": [
  {
   "cell_type": "code",
   "execution_count": 1,
   "id": "98ce63b5",
   "metadata": {},
   "outputs": [],
   "source": [
    "import pandas as np"
   ]
  },
  {
   "cell_type": "code",
   "execution_count": 8,
   "id": "40773df7",
   "metadata": {},
   "outputs": [],
   "source": [
    "import random\n",
    "\n",
    "kategori_list = [\"makanan\", \"transportasi\", \"keperluan pribadi\", \"lainnya\"]\n",
    "# Buat probabilitas dominan ke makanan\n",
    "probabilitas = [0.6, 0.15, 0.15, 0.1]\n",
    "\n",
    "df = np.DataFrame({\n",
    "    \"tanggal\": [\n",
    "        \"2025-01-01\", \"2025-01-01\", \"2025-01-02\", \"2025-01-02\", \"2025-01-02\",\n",
    "        \"2025-01-03\", \"2025-01-03\", \"2025-01-04\", \"2025-01-04\", \"2025-01-5\",\n",
    "        \"2025-01-5\", \"2025-01-5\", \"2025-01-6\", \"2025-01-7\"\n",
    "    ],\n",
    "    \"jumlah\": [\n",
    "        12000, 12000, 60000, 33000, 50000, 35000, 40000, 37000, 38000, 39000,\n",
    "        100000, 41000, 42000, 43000\n",
    "    ],\n",
    "    \"kategori\": random.choices(kategori_list, probabilitas, k=14)\n",
    "})\n",
    "\n",
    "df.to_csv(\"pengeluaran.csv\", index=False)"
   ]
  },
  {
   "cell_type": "code",
   "execution_count": null,
   "id": "01b3ec61",
   "metadata": {},
   "outputs": [],
   "source": []
  }
 ],
 "metadata": {
  "kernelspec": {
   "display_name": "agent-data-analyst",
   "language": "python",
   "name": "python3"
  },
  "language_info": {
   "codemirror_mode": {
    "name": "ipython",
    "version": 3
   },
   "file_extension": ".py",
   "mimetype": "text/x-python",
   "name": "python",
   "nbconvert_exporter": "python",
   "pygments_lexer": "ipython3",
   "version": "3.13.5"
  }
 },
 "nbformat": 4,
 "nbformat_minor": 5
}
