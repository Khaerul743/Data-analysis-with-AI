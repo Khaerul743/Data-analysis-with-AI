{
 "cells": [
  {
   "cell_type": "code",
   "execution_count": 2,
   "id": "98ce63b5",
   "metadata": {},
   "outputs": [],
   "source": [
    "import pandas as pd"
   ]
  },
  {
   "cell_type": "code",
   "execution_count": 8,
   "id": "40773df7",
   "metadata": {},
   "outputs": [],
   "source": [
    "import random\n",
    "\n",
    "kategori_list = [\"makanan\", \"transportasi\", \"keperluan pribadi\", \"lainnya\"]\n",
    "# Buat probabilitas dominan ke makanan\n",
    "probabilitas = [0.6, 0.15, 0.15, 0.1]\n",
    "\n",
    "df = np.DataFrame({\n",
    "    \"tanggal\": [\n",
    "        \"2025-01-01\", \"2025-01-01\", \"2025-01-02\", \"2025-01-02\", \"2025-01-02\",\n",
    "        \"2025-01-03\", \"2025-01-03\", \"2025-01-04\", \"2025-01-04\", \"2025-01-5\",\n",
    "        \"2025-01-5\", \"2025-01-5\", \"2025-01-6\", \"2025-01-7\"\n",
    "    ],\n",
    "    \"jumlah\": [\n",
    "        12000, 12000, 60000, 33000, 50000, 35000, 40000, 37000, 38000, 39000,\n",
    "        100000, 41000, 42000, 43000\n",
    "    ],\n",
    "    \"kategori\": random.choices(kategori_list, probabilitas, k=14)\n",
    "})\n",
    "\n",
    "df.to_csv(\"pengeluaran.csv\", index=False)"
   ]
  },
  {
   "cell_type": "code",
   "execution_count": 42,
   "id": "01b3ec61",
   "metadata": {},
   "outputs": [
    {
     "name": "stdout",
     "output_type": "stream",
     "text": [
      "tanggal       jumlah       kategori\n",
      "2025-01-01     12000     lainnya     \n",
      "2025-01-01     12000     makanan     \n",
      "2025-01-02     60000     makanan     \n",
      "2025-01-02     33000     makanan     \n",
      "2025-01-02     50000     makanan     \n",
      "2025-01-03     35000     transportasi     \n",
      "2025-01-03     40000     makanan     \n",
      "2025-01-04     37000     makanan     \n",
      "2025-01-04     38000     makanan     \n",
      "2025-01-5     39000     lainnya     \n",
      "2025-01-5     100000     keperluan pribadi     \n",
      "2025-01-5     41000     keperluan pribadi     \n",
      "2025-01-6     42000     makanan     \n",
      "2025-01-7     43000     makanan     \n",
      "\n"
     ]
    }
   ],
   "source": [
    "df = pd.read_csv(\"../data/pengeluaran.csv\")\n",
    "\n",
    "\n",
    "keys = df.keys()\n",
    "\n",
    "temp = \"\"\n",
    "n = 1\n",
    "for index, row in df.iterrows():\n",
    "    for key in keys:\n",
    "        temp += (str(row[key])+\"     \")\n",
    "        if n == 3:\n",
    "            temp += \"\\n\"\n",
    "            n = 0\n",
    "        n+=1\n",
    "print(\"       \".join(keys))\n",
    "print(temp)\n",
    "\n",
    "# for item in df:\n",
    "#     print(\" \".join(keys))"
   ]
  },
  {
   "cell_type": "code",
   "execution_count": 46,
   "id": "f970ab1f",
   "metadata": {},
   "outputs": [
    {
     "ename": "ModuleNotFoundError",
     "evalue": "No module named 'tabulate'",
     "output_type": "error",
     "traceback": [
      "\u001b[31m---------------------------------------------------------------------------\u001b[39m",
      "\u001b[31mModuleNotFoundError\u001b[39m                       Traceback (most recent call last)",
      "\u001b[36mCell\u001b[39m\u001b[36m \u001b[39m\u001b[32mIn[46]\u001b[39m\u001b[32m, line 1\u001b[39m\n\u001b[32m----> \u001b[39m\u001b[32m1\u001b[39m \u001b[38;5;28;01mfrom\u001b[39;00m\u001b[38;5;250m \u001b[39m\u001b[34;01mtabulate\u001b[39;00m\u001b[38;5;250m \u001b[39m\u001b[38;5;28;01mimport\u001b[39;00m tabulate\n\u001b[32m      3\u001b[39m df = pd.read_csv(\u001b[33m\"\u001b[39m\u001b[33m../data/pengeluaran.csv\u001b[39m\u001b[33m\"\u001b[39m)\n\u001b[32m      4\u001b[39m df_string_grid = tabulate(df, headers=\u001b[33m'\u001b[39m\u001b[33mkeys\u001b[39m\u001b[33m'\u001b[39m, tablefmt=\u001b[33m'\u001b[39m\u001b[33mgrid\u001b[39m\u001b[33m'\u001b[39m)\n",
      "\u001b[31mModuleNotFoundError\u001b[39m: No module named 'tabulate'"
     ]
    }
   ],
   "source": [
    "from tabulate import tabulate\n",
    "\n",
    "df = pd.read_csv(\"../data/pengeluaran.csv\")\n",
    "df_string_grid = tabulate(df, headers='keys', tablefmt='grid')\n",
    "\n",
    "print(df_string_grid)"
   ]
  },
  {
   "cell_type": "code",
   "execution_count": null,
   "id": "9376594e",
   "metadata": {},
   "outputs": [],
   "source": []
  }
 ],
 "metadata": {
  "kernelspec": {
   "display_name": "agent-data-analyst",
   "language": "python",
   "name": "python3"
  },
  "language_info": {
   "codemirror_mode": {
    "name": "ipython",
    "version": 3
   },
   "file_extension": ".py",
   "mimetype": "text/x-python",
   "name": "python",
   "nbconvert_exporter": "python",
   "pygments_lexer": "ipython3",
   "version": "3.13.5"
  }
 },
 "nbformat": 4,
 "nbformat_minor": 5
}
